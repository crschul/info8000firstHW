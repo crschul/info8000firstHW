{
 "cells": [
  {
   "cell_type": "code",
   "execution_count": 2,
   "metadata": {},
   "outputs": [
    {
     "data": {
      "text/html": [
       "<div>\n",
       "<style scoped>\n",
       "    .dataframe tbody tr th:only-of-type {\n",
       "        vertical-align: middle;\n",
       "    }\n",
       "\n",
       "    .dataframe tbody tr th {\n",
       "        vertical-align: top;\n",
       "    }\n",
       "\n",
       "    .dataframe thead th {\n",
       "        text-align: right;\n",
       "    }\n",
       "</style>\n",
       "<table border=\"1\" class=\"dataframe\">\n",
       "  <thead>\n",
       "    <tr style=\"text-align: right;\">\n",
       "      <th></th>\n",
       "      <th>Timestamp</th>\n",
       "      <th>What is your favorite video game?</th>\n",
       "      <th>Do you work at UGA?</th>\n",
       "      <th>Will Corey get an A?</th>\n",
       "      <th>What is your pet's name?</th>\n",
       "    </tr>\n",
       "  </thead>\n",
       "  <tbody>\n",
       "    <tr>\n",
       "      <td>0</td>\n",
       "      <td>1/8/2020 22:40:46</td>\n",
       "      <td>Borderlands</td>\n",
       "      <td>YES</td>\n",
       "      <td>Yes</td>\n",
       "      <td>Finley</td>\n",
       "    </tr>\n",
       "  </tbody>\n",
       "</table>\n",
       "</div>"
      ],
      "text/plain": [
       "           Timestamp What is your favorite video game? Do you work at UGA?  \\\n",
       "0  1/8/2020 22:40:46                       Borderlands                 YES   \n",
       "\n",
       "  Will Corey get an A? What is your pet's name?  \n",
       "0                  Yes                   Finley  "
      ]
     },
     "execution_count": 2,
     "metadata": {},
     "output_type": "execute_result"
    }
   ],
   "source": [
    "import requests #great web library\n",
    "import pandas as pd #great table/dataframe library\n",
    "doc_id = \"1l8e9YPq0RzRi9yZJRCglBDxby05L0Uxh06pOJgd8z5E\" #from your shared link\n",
    "url = f\"https://docs.google.com/spreadsheets/d/{doc_id}/gviz/tq?tqx=out:csv\" #beautiful python syntactic sugar\n",
    "res = requests.get(url,allow_redirects=True) #Does the download\n",
    "open('./csfile1.csv', 'wb').write(res.content) #temporarily write to a file\n",
    "df = pd.read_csv('./csfile1.csv') #so that we can read it. \n",
    "df.head() #so we can see that it worked\n",
    "\n",
    "\n",
    "#Form to fill\n",
    "#https://docs.google.com/forms/d/e/1FAIpQLSedpw2NgI84Z8qjSd_dp4K56WwBDZ_njaP84z3EVhQlAQtqng/viewform?usp=sf_link\n"
   ]
  },
  {
   "cell_type": "code",
   "execution_count": null,
   "metadata": {},
   "outputs": [],
   "source": []
  }
 ],
 "metadata": {
  "kernelspec": {
   "display_name": "Python 3",
   "language": "python",
   "name": "python3"
  },
  "language_info": {
   "codemirror_mode": {
    "name": "ipython",
    "version": 3
   },
   "file_extension": ".py",
   "mimetype": "text/x-python",
   "name": "python",
   "nbconvert_exporter": "python",
   "pygments_lexer": "ipython3",
   "version": "3.7.4"
  }
 },
 "nbformat": 4,
 "nbformat_minor": 4
}
